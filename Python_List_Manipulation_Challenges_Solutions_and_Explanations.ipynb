{
  "nbformat": 4,
  "nbformat_minor": 0,
  "metadata": {
    "colab": {
      "provenance": []
    },
    "kernelspec": {
      "name": "python3",
      "display_name": "Python 3"
    },
    "language_info": {
      "name": "python"
    }
  },
  "cells": [
    {
      "cell_type": "markdown",
      "source": [
        "### Question 1: Write a Python program to count the number of elements in a list without using len.\n",
        "\n",
        "\n",
        "- `sample input : `\n",
        "    - `var = [10,11,12,13]`\n",
        "- `sample output :`\n",
        "    - `result : 4`"
      ],
      "metadata": {
        "id": "U2RavyM41df_"
      }
    },
    {
      "cell_type": "code",
      "execution_count": null,
      "metadata": {
        "colab": {
          "base_uri": "https://localhost:8080/"
        },
        "id": "jJQX8u1E1V3P",
        "outputId": "32a85920-5ee1-4ce9-ddae-8c7b1c330b25"
      },
      "outputs": [
        {
          "output_type": "stream",
          "name": "stdout",
          "text": [
            "5\n"
          ]
        }
      ],
      "source": [
        "var=[10,2,3,4,5]\n",
        "count=0\n",
        "for i in var:\n",
        "  count+=1\n",
        "print(count)"
      ]
    },
    {
      "cell_type": "markdown",
      "source": [
        "### Question 2: Write a Python program to find the maximum and minimum values in a given list.\n",
        "\n",
        "- `sample input : `\n",
        "    - `var = [10,11,12,13,14,15]`\n",
        "- `sample output :`\n",
        "    - `result : max = 15 , min = 10`"
      ],
      "metadata": {
        "id": "9T3wd7G6_Whx"
      }
    },
    {
      "cell_type": "code",
      "source": [
        "var = [10,11,12,13,14,15]\n",
        "\n",
        "maxi=max(var)\n",
        "mini=min(var)\n",
        "\n",
        "print(f'Maximum value is {maxi} and Minimum Value is {mini}')"
      ],
      "metadata": {
        "colab": {
          "base_uri": "https://localhost:8080/"
        },
        "id": "3ei-O5ZQ_Xrt",
        "outputId": "c56b7e2f-4f33-4d8f-ef6e-62f40b162b5f"
      },
      "execution_count": null,
      "outputs": [
        {
          "output_type": "stream",
          "name": "stdout",
          "text": [
            "Maximum value is 15 and Minimum Value is 10\n"
          ]
        }
      ]
    },
    {
      "cell_type": "markdown",
      "source": [
        "### Question 3: Write a Python program to remove the first occurrence of a specified element from a list.\n",
        "\n",
        "- `sample input : `\n",
        "    - `var = [1,2,3,4,2,5]`\n",
        "- `sample output :`\n",
        "    - `result : [1,3,4,2,5]`\n",
        "    "
      ],
      "metadata": {
        "id": "20BMtgpJ11yk"
      }
    },
    {
      "cell_type": "code",
      "source": [
        "var=[1,2,3,4,2,5]\n",
        "c=[]\n",
        "\n",
        "for i in var:\n",
        "  if i not in c:\n",
        "    c.append(i)\n",
        "\n",
        "print(c)\n"
      ],
      "metadata": {
        "colab": {
          "base_uri": "https://localhost:8080/"
        },
        "id": "493Cuqby1pUy",
        "outputId": "44655a52-7fed-4605-8042-4e6c6f5279f5"
      },
      "execution_count": null,
      "outputs": [
        {
          "output_type": "stream",
          "name": "stdout",
          "text": [
            "[1, 2, 3, 4, 5]\n"
          ]
        }
      ]
    },
    {
      "cell_type": "markdown",
      "source": [
        "### Question 4: Write a Python program to find the average of all the elements in a list.\n",
        "\n",
        "\n",
        "- `sample input : `\n",
        "    - `var = [1,2,3,4,2,5]`\n",
        "- `sample output :`\n",
        "    - `result : 2.833 `"
      ],
      "metadata": {
        "id": "Wg6op6Px3hLU"
      }
    },
    {
      "cell_type": "code",
      "source": [
        "var = [1,2,3,4,2,5]\n",
        "c=0\n",
        "count=0\n",
        "for i in var:\n",
        "  c=i+c\n",
        "  count+=1\n",
        "average= c/count\n",
        "print(average)"
      ],
      "metadata": {
        "colab": {
          "base_uri": "https://localhost:8080/"
        },
        "id": "1MofwUEP2PAa",
        "outputId": "3334b087-e4aa-42b1-f809-fa99f5d89eeb"
      },
      "execution_count": null,
      "outputs": [
        {
          "output_type": "stream",
          "name": "stdout",
          "text": [
            "17\n",
            "6\n",
            "2.8333333333333335\n"
          ]
        }
      ]
    },
    {
      "cell_type": "markdown",
      "source": [
        "### Question 5: Write a Python program to check if a list is empty or not.\n",
        "\n",
        "\n",
        "- `sample input : `\n",
        "    - `var1 = [1,2]`\n",
        "- `sample output :`\n",
        "    - `result : Not empty`\n",
        "    \n",
        "- `sample input : `\n",
        "    - `var1 = []`\n",
        "- `sample output :`\n",
        "    - `result :empty`\n",
        "    \n"
      ],
      "metadata": {
        "id": "SxrxEBD44Ueq"
      }
    },
    {
      "cell_type": "code",
      "source": [
        "var=[1,2]\n",
        "count=0\n",
        "for i in var:\n",
        "  count+=1\n",
        "\n",
        "if count== 0:\n",
        "  print('List is empty')\n",
        "else:\n",
        "  print('List is not empty')"
      ],
      "metadata": {
        "colab": {
          "base_uri": "https://localhost:8080/"
        },
        "id": "Rc6GdbcZ3ySR",
        "outputId": "8c336851-da55-44e2-8d86-f4dd1c86f567"
      },
      "execution_count": null,
      "outputs": [
        {
          "output_type": "stream",
          "name": "stdout",
          "text": [
            "List is not empty\n"
          ]
        }
      ]
    },
    {
      "cell_type": "code",
      "source": [
        "var=[]\n",
        "count=0\n",
        "for i in var:\n",
        "  count+=1\n",
        "\n",
        "if count== 0:\n",
        "  print('List is empty')\n",
        "else:\n",
        "  print('List is not empty')"
      ],
      "metadata": {
        "colab": {
          "base_uri": "https://localhost:8080/"
        },
        "id": "Zr5YQWBj4oMC",
        "outputId": "2b2ec1b6-b84c-4cab-fa06-4f174b1e579a"
      },
      "execution_count": null,
      "outputs": [
        {
          "output_type": "stream",
          "name": "stdout",
          "text": [
            "List is empty\n"
          ]
        }
      ]
    },
    {
      "cell_type": "markdown",
      "source": [
        "### Question 6:  Write a Python program to find the index of a specified element in a list..\n",
        "\n",
        "- `sample input : `\n",
        "    - `var = [1,2,3,4,2,5]`\n",
        "- `sample output :`\n",
        "    - `result : 3 index is 2`"
      ],
      "metadata": {
        "id": "4VCCoKwP46B5"
      }
    },
    {
      "cell_type": "code",
      "source": [
        "var=[1,2,3,4,2,6,10,14]\n",
        "print('Enter the Specified Element to Find its index :')\n",
        "var.index(int(input()))"
      ],
      "metadata": {
        "colab": {
          "base_uri": "https://localhost:8080/"
        },
        "id": "m6SHEcFh4rLx",
        "outputId": "570acf4e-56b5-459a-bee9-d0f63b306110"
      },
      "execution_count": null,
      "outputs": [
        {
          "name": "stdout",
          "output_type": "stream",
          "text": [
            "Enter the Specified Element to Find its index :\n",
            "10\n"
          ]
        },
        {
          "output_type": "execute_result",
          "data": {
            "text/plain": [
              "6"
            ]
          },
          "metadata": {},
          "execution_count": 27
        }
      ]
    },
    {
      "cell_type": "markdown",
      "source": [
        "### Question 7: Write a Python program to find which number is palindrome in below given list .\n",
        "\n",
        "- `sample input : `\n",
        "    - `var = [134,121,155]`\n",
        "- `sample output :`\n",
        "    - `result : 134 is not a palindome , 121 is a palindrome `"
      ],
      "metadata": {
        "id": "vW6jtHk65t_G"
      }
    },
    {
      "cell_type": "code",
      "source": [
        "var=[134,121,155]\n",
        "\n",
        "for i in var:\n",
        "  b=int(str(i)[::-1])\n",
        "  if i == b:\n",
        "    print(f'{i} is Palindrome')\n",
        "  else:\n",
        "    print(f'{i} is not Palindrome')"
      ],
      "metadata": {
        "colab": {
          "base_uri": "https://localhost:8080/"
        },
        "id": "U6ofeI284-7Q",
        "outputId": "83bfa21b-b967-4e48-bf86-42449258016a"
      },
      "execution_count": null,
      "outputs": [
        {
          "output_type": "stream",
          "name": "stdout",
          "text": [
            "134 is not Palindrome\n",
            "121 is Palindrome\n",
            "155 is not Palindrome\n"
          ]
        }
      ]
    },
    {
      "cell_type": "markdown",
      "source": [
        "### Question 8: Write a Python program to find the common elements between two lists.\n",
        "\n",
        "- `sample input : `\n",
        "    - `var1 = [1,2,3,4,10]`\n",
        "    - `var2 = [10,11,12,14]`\n",
        "- `sample output :`\n",
        "    - `result : 10`"
      ],
      "metadata": {
        "id": "yJQbBAyt7n0S"
      }
    },
    {
      "cell_type": "code",
      "source": [
        "var1 = [1,2,3,4,10]\n",
        "var2 = [10,11,12,14]\n",
        "\n",
        "set(var1).intersection(set(var2))\n"
      ],
      "metadata": {
        "colab": {
          "base_uri": "https://localhost:8080/"
        },
        "id": "F2KPKPcy6MUJ",
        "outputId": "a7cfd2f9-f8c7-4509-fa04-afeb894052db"
      },
      "execution_count": null,
      "outputs": [
        {
          "output_type": "execute_result",
          "data": {
            "text/plain": [
              "{10}"
            ]
          },
          "metadata": {},
          "execution_count": 40
        }
      ]
    },
    {
      "cell_type": "markdown",
      "source": [
        "### Question 9: Write a Python program to remove the duplicates from a list\n",
        "\n",
        "- `sample input : `\n",
        "    - `var = [10,11,12,10,12,24]`\n",
        "- `sample output :`\n",
        "    - `result : [10,11,12,24]`"
      ],
      "metadata": {
        "id": "Lep3EnQO8tro"
      }
    },
    {
      "cell_type": "code",
      "source": [
        "var = [10,11,12,10,12,24]\n",
        "c=[]\n",
        "for i in var:\n",
        "  if i not in c:\n",
        "    c.append(i)\n",
        "print(c)"
      ],
      "metadata": {
        "colab": {
          "base_uri": "https://localhost:8080/"
        },
        "id": "9eh718wl72ew",
        "outputId": "0cbc36f8-f29e-4af9-e750-a5aa1791e2cc"
      },
      "execution_count": null,
      "outputs": [
        {
          "output_type": "stream",
          "name": "stdout",
          "text": [
            "[10, 11, 12, 24]\n"
          ]
        }
      ]
    },
    {
      "cell_type": "markdown",
      "source": [
        "### Question 10:  Write a Python program to sort a list of strings in Ascii Order [Ascending order]\n",
        "\n",
        "\n",
        "- `sample input : `\n",
        "    - `var = ['a' , 'c' , 'b']`\n",
        "- `sample output :`\n",
        "    - `result : ['a' , 'b' , 'c']`\n"
      ],
      "metadata": {
        "id": "bAplyEfk9IDv"
      }
    },
    {
      "cell_type": "code",
      "source": [
        "var=['a','c','b']\n",
        "c=[]\n",
        "for i in var:\n",
        "\n",
        "  c.append(ord(i))\n",
        "\n",
        "c.sort()\n",
        "b=[]\n",
        "for i in c:\n",
        "  b.append(chr(i))\n",
        "print(b)"
      ],
      "metadata": {
        "colab": {
          "base_uri": "https://localhost:8080/"
        },
        "id": "bI6gEQqF8_9S",
        "outputId": "86fa0cf5-9d20-4fc4-c710-ce89e8f920c4"
      },
      "execution_count": null,
      "outputs": [
        {
          "output_type": "stream",
          "name": "stdout",
          "text": [
            "['a', 'b', 'c']\n"
          ]
        }
      ]
    },
    {
      "cell_type": "code",
      "source": [],
      "metadata": {
        "id": "c8elUpma9o2c"
      },
      "execution_count": null,
      "outputs": []
    }
  ]
}